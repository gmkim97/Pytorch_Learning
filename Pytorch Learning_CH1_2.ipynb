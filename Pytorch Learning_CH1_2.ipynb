{
 "cells": [
  {
   "cell_type": "markdown",
   "id": "a7fcc01a",
   "metadata": {},
   "source": [
    "### CH1. Tensor Manipulation - Part 2"
   ]
  },
  {
   "cell_type": "markdown",
   "id": "b2cb5c3c",
   "metadata": {},
   "source": [
    "#### 3. Handling Tensors"
   ]
  },
  {
   "cell_type": "code",
   "execution_count": 1,
   "id": "d88a2cc1",
   "metadata": {},
   "outputs": [],
   "source": [
    "import torch"
   ]
  },
  {
   "cell_type": "markdown",
   "id": "f74a4f60",
   "metadata": {},
   "source": [
    "#### (6) View"
   ]
  },
  {
   "cell_type": "code",
   "execution_count": 2,
   "id": "977d3537",
   "metadata": {},
   "outputs": [
    {
     "name": "stdout",
     "output_type": "stream",
     "text": [
      "tensor([[[ 0.,  1.,  2.],\n",
      "         [ 3.,  4.,  5.]],\n",
      "\n",
      "        [[ 6.,  7.,  8.],\n",
      "         [ 9., 10., 11.]]])\n"
     ]
    }
   ],
   "source": [
    "t3 = torch.FloatTensor([[[0, 1, 2],[3, 4, 5]],[[6, 7, 8],[9, 10, 11]]])\n",
    "print(t3)"
   ]
  },
  {
   "cell_type": "code",
   "execution_count": 3,
   "id": "63bff848",
   "metadata": {},
   "outputs": [
    {
     "name": "stdout",
     "output_type": "stream",
     "text": [
      "torch.Size([2, 2, 3])\n",
      "torch.Size([2, 2, 3])\n"
     ]
    }
   ],
   "source": [
    "# Both output size of Tensor\n",
    "print(t3.size())\n",
    "print(t3.shape)"
   ]
  },
  {
   "cell_type": "code",
   "execution_count": 4,
   "id": "02d24418",
   "metadata": {},
   "outputs": [
    {
     "name": "stdout",
     "output_type": "stream",
     "text": [
      "tensor([[ 0.,  1.,  2.],\n",
      "        [ 3.,  4.,  5.],\n",
      "        [ 6.,  7.,  8.],\n",
      "        [ 9., 10., 11.]])\n",
      "tensor([[ 0.,  1.,  2.,  3.,  4.,  5.],\n",
      "        [ 6.,  7.,  8.,  9., 10., 11.]])\n"
     ]
    }
   ],
   "source": [
    "# Reshape into 2D Tensor\n",
    "print(t3.view([-1,3])) ## -1 means reshape automatically (Leave it to Pytorch)\n",
    "print(t3.view([2,6])) ## Shape must be maintained (2x2x3)=(2x6)=12"
   ]
  },
  {
   "cell_type": "code",
   "execution_count": 5,
   "id": "cf47dea6",
   "metadata": {},
   "outputs": [
    {
     "name": "stdout",
     "output_type": "stream",
     "text": [
      "tensor([[[ 0.,  1.,  2.],\n",
      "         [ 3.,  4.,  5.]],\n",
      "\n",
      "        [[ 6.,  7.,  8.],\n",
      "         [ 9., 10., 11.]]])\n",
      "tensor([[[ 0.,  1.],\n",
      "         [ 2.,  3.],\n",
      "         [ 4.,  5.]],\n",
      "\n",
      "        [[ 6.,  7.],\n",
      "         [ 8.,  9.],\n",
      "         [10., 11.]]])\n"
     ]
    }
   ],
   "source": [
    "# Reshape into 3D Tensor\n",
    "print(t3.view([-1,2,3])) ## -1 means reshape automatically (Leave it to Pytorch)\n",
    "print(t3.view([2,3,2])) ## Shape must be maintained (2x2x3)=(2x3x2)=12"
   ]
  },
  {
   "cell_type": "markdown",
   "id": "26dcdd50",
   "metadata": {},
   "source": [
    "#### (7) Squeeze & Unsqueeze"
   ]
  },
  {
   "cell_type": "code",
   "execution_count": 6,
   "id": "af58fb0f",
   "metadata": {},
   "outputs": [
    {
     "name": "stdout",
     "output_type": "stream",
     "text": [
      "tensor([[0.],\n",
      "        [1.],\n",
      "        [2.]])\n"
     ]
    }
   ],
   "source": [
    "t2 = torch.FloatTensor([[0],[1],[2]])\n",
    "print(t2)"
   ]
  },
  {
   "cell_type": "code",
   "execution_count": 7,
   "id": "6b6892da",
   "metadata": {},
   "outputs": [
    {
     "name": "stdout",
     "output_type": "stream",
     "text": [
      "torch.Size([3, 1])\n"
     ]
    }
   ],
   "source": [
    "print(t2.size())"
   ]
  },
  {
   "cell_type": "code",
   "execution_count": 8,
   "id": "f5eb2e0f",
   "metadata": {},
   "outputs": [
    {
     "name": "stdout",
     "output_type": "stream",
     "text": [
      "tensor([0., 1., 2.])\n",
      "torch.Size([3])\n"
     ]
    }
   ],
   "source": [
    "# Squeeze\n",
    "# Eliminate the dimension with 1 == Reduce total dimensions\n",
    "print(t2.squeeze())\n",
    "print(t2.squeeze().size())"
   ]
  },
  {
   "cell_type": "code",
   "execution_count": 9,
   "id": "9a4825c5",
   "metadata": {},
   "outputs": [
    {
     "name": "stdout",
     "output_type": "stream",
     "text": [
      "tensor([0., 1., 2.])\n"
     ]
    }
   ],
   "source": [
    "t1 = t2.squeeze()\n",
    "print(t1)"
   ]
  },
  {
   "cell_type": "code",
   "execution_count": 10,
   "id": "b9baf1b5",
   "metadata": {},
   "outputs": [
    {
     "name": "stdout",
     "output_type": "stream",
     "text": [
      "torch.Size([3])\n"
     ]
    }
   ],
   "source": [
    "print(t1.size())"
   ]
  },
  {
   "cell_type": "code",
   "execution_count": 11,
   "id": "a5234d21",
   "metadata": {},
   "outputs": [
    {
     "name": "stdout",
     "output_type": "stream",
     "text": [
      "torch.Size([1, 3])\n",
      "tensor([[0., 1., 2.]])\n",
      "--------------------------\n",
      "torch.Size([3, 1])\n",
      "tensor([[0.],\n",
      "        [1.],\n",
      "        [2.]])\n"
     ]
    }
   ],
   "source": [
    "# Unsqueeze\n",
    "# Add the dimension with 1 at specific place == increase total dimensions\n",
    "print(t1.unsqueeze(dim=0).size())\n",
    "print(t1.unsqueeze(dim=0))\n",
    "print(\"--------------------------\")\n",
    "print(t1.unsqueeze(dim=1).size())\n",
    "print(t1.unsqueeze(dim=1))"
   ]
  },
  {
   "cell_type": "markdown",
   "id": "91d2b4e6",
   "metadata": {},
   "source": [
    "#### (8) Concatenate & Stack"
   ]
  },
  {
   "cell_type": "code",
   "execution_count": 12,
   "id": "502abef2",
   "metadata": {},
   "outputs": [
    {
     "name": "stdout",
     "output_type": "stream",
     "text": [
      "tensor([[7, 8],\n",
      "        [3, 8]])\n",
      "tensor([[5, 6],\n",
      "        [5, 2]])\n"
     ]
    }
   ],
   "source": [
    "# Concatenate\n",
    "## Non-empty tensors provided must have the same shape, except in the cat dimension\n",
    "x = torch.randint(high=10, size=(2,2))\n",
    "y = torch.randint(high=10, size=(2,2))\n",
    "print(x)\n",
    "print(y)"
   ]
  },
  {
   "cell_type": "code",
   "execution_count": 13,
   "id": "8551ad9f",
   "metadata": {},
   "outputs": [
    {
     "name": "stdout",
     "output_type": "stream",
     "text": [
      "tensor([[7, 8],\n",
      "        [3, 8],\n",
      "        [5, 6],\n",
      "        [5, 2]])\n",
      "tensor([[7, 8],\n",
      "        [3, 8],\n",
      "        [5, 6],\n",
      "        [5, 2]])\n",
      "tensor([[7, 8, 5, 6],\n",
      "        [3, 8, 5, 2]])\n"
     ]
    }
   ],
   "source": [
    "print(torch.cat([x,y]))\n",
    "print(torch.cat([x,y], dim=0))\n",
    "print(torch.cat([x,y], dim=1))"
   ]
  },
  {
   "cell_type": "code",
   "execution_count": 14,
   "id": "2e27ef88",
   "metadata": {},
   "outputs": [
    {
     "name": "stdout",
     "output_type": "stream",
     "text": [
      "tensor([[7, 8],\n",
      "        [7, 6]])\n",
      "tensor([[4, 3],\n",
      "        [8, 8]])\n",
      "tensor([[1, 6],\n",
      "        [3, 7]])\n"
     ]
    }
   ],
   "source": [
    "# Stack == concatenate + unsqueeze\n",
    "## Concatenate a sequence of tensors along a new dimension\n",
    "## All tensors need to be of the same size\n",
    "x = torch.randint(high=10, size=(2,2))\n",
    "y = torch.randint(high=10, size=(2,2))\n",
    "z = torch.randint(high=10, size=(2,2))\n",
    "print(x)\n",
    "print(y)\n",
    "print(z)"
   ]
  },
  {
   "cell_type": "code",
   "execution_count": 15,
   "id": "20911504",
   "metadata": {},
   "outputs": [
    {
     "name": "stdout",
     "output_type": "stream",
     "text": [
      "tensor([[[7, 8],\n",
      "         [7, 6]],\n",
      "\n",
      "        [[4, 3],\n",
      "         [8, 8]],\n",
      "\n",
      "        [[1, 6],\n",
      "         [3, 7]]])\n",
      "tensor([[[7, 8],\n",
      "         [7, 6]],\n",
      "\n",
      "        [[4, 3],\n",
      "         [8, 8]],\n",
      "\n",
      "        [[1, 6],\n",
      "         [3, 7]]])\n",
      "tensor([[[7, 8],\n",
      "         [4, 3],\n",
      "         [1, 6]],\n",
      "\n",
      "        [[7, 6],\n",
      "         [8, 8],\n",
      "         [3, 7]]])\n",
      "tensor([[[7, 4, 1],\n",
      "         [8, 3, 6]],\n",
      "\n",
      "        [[7, 8, 3],\n",
      "         [6, 8, 7]]])\n"
     ]
    }
   ],
   "source": [
    "print(torch.stack([x,y,z]))\n",
    "print(torch.stack([x,y,z], dim=0))\n",
    "print(torch.stack([x,y,z], dim=1))\n",
    "print(torch.stack([x,y,z], dim=2))"
   ]
  },
  {
   "cell_type": "markdown",
   "id": "96c2675f",
   "metadata": {},
   "source": [
    "#### (9) ones_like & zeros_like"
   ]
  },
  {
   "cell_type": "code",
   "execution_count": 16,
   "id": "8b363f2b",
   "metadata": {},
   "outputs": [
    {
     "name": "stdout",
     "output_type": "stream",
     "text": [
      "tensor([[7, 4, 8],\n",
      "        [6, 8, 6]])\n"
     ]
    }
   ],
   "source": [
    "x = torch.randint(high=10, size=(2,3))\n",
    "print(x)"
   ]
  },
  {
   "cell_type": "code",
   "execution_count": 17,
   "id": "22a74853",
   "metadata": {},
   "outputs": [
    {
     "name": "stdout",
     "output_type": "stream",
     "text": [
      "tensor([[1, 1, 1],\n",
      "        [1, 1, 1]])\n",
      "tensor([[1., 1., 1.],\n",
      "        [1., 1., 1.]])\n"
     ]
    }
   ],
   "source": [
    "# ones_like\n",
    "## _like means same size with tensor x\n",
    "t1 = torch.ones_like(x)\n",
    "print(t1)\n",
    "# ones\n",
    "t1_1 = torch.ones(size=(2,3))\n",
    "print(t1_1)"
   ]
  },
  {
   "cell_type": "code",
   "execution_count": 18,
   "id": "fb2d4054",
   "metadata": {},
   "outputs": [
    {
     "name": "stdout",
     "output_type": "stream",
     "text": [
      "tensor([[0, 0, 0],\n",
      "        [0, 0, 0]])\n",
      "tensor([[0., 0., 0.],\n",
      "        [0., 0., 0.]])\n"
     ]
    }
   ],
   "source": [
    "# zeros_like\n",
    "## _like means same size with tensor x\n",
    "t0 = torch.zeros_like(x)\n",
    "print(t0)\n",
    "# zeros\n",
    "t0_1 = torch.zeros(size=(2,3))\n",
    "print(t0_1)"
   ]
  },
  {
   "cell_type": "markdown",
   "id": "fe9ee16c",
   "metadata": {},
   "source": [
    "#### (10) In-place operation"
   ]
  },
  {
   "cell_type": "code",
   "execution_count": 19,
   "id": "3c902802",
   "metadata": {},
   "outputs": [
    {
     "name": "stdout",
     "output_type": "stream",
     "text": [
      "tensor([[1., 2.],\n",
      "        [3., 4.]])\n"
     ]
    }
   ],
   "source": [
    "x = torch.FloatTensor([[1, 2],[3, 4]])\n",
    "print(x)"
   ]
  },
  {
   "cell_type": "code",
   "execution_count": 21,
   "id": "8b32993b",
   "metadata": {},
   "outputs": [
    {
     "name": "stdout",
     "output_type": "stream",
     "text": [
      "tensor([[2., 4.],\n",
      "        [6., 8.]])\n",
      "tensor([[1., 2.],\n",
      "        [3., 4.]])\n"
     ]
    }
   ],
   "source": [
    "print(x.mul(2))\n",
    "print(x)"
   ]
  },
  {
   "cell_type": "code",
   "execution_count": 22,
   "id": "955a53d7",
   "metadata": {},
   "outputs": [
    {
     "name": "stdout",
     "output_type": "stream",
     "text": [
      "tensor([[2., 4.],\n",
      "        [6., 8.]])\n",
      "tensor([[2., 4.],\n",
      "        [6., 8.]])\n"
     ]
    }
   ],
   "source": [
    "## In-place operation saves its result into variable\n",
    "print(x.mul_(2))\n",
    "print(x)"
   ]
  }
 ],
 "metadata": {
  "kernelspec": {
   "display_name": "Python 3 (ipykernel)",
   "language": "python",
   "name": "python3"
  },
  "language_info": {
   "codemirror_mode": {
    "name": "ipython",
    "version": 3
   },
   "file_extension": ".py",
   "mimetype": "text/x-python",
   "name": "python",
   "nbconvert_exporter": "python",
   "pygments_lexer": "ipython3",
   "version": "3.8.13"
  }
 },
 "nbformat": 4,
 "nbformat_minor": 5
}
