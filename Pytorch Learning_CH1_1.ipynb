{
 "cells": [
  {
   "cell_type": "markdown",
   "id": "d10c081b",
   "metadata": {},
   "source": [
    "# Pytorch Learning"
   ]
  },
  {
   "cell_type": "markdown",
   "id": "383326c6",
   "metadata": {},
   "source": [
    "### CH1. Tensor Manipulation - Part 1"
   ]
  },
  {
   "cell_type": "markdown",
   "id": "06c9e4f2",
   "metadata": {},
   "source": [
    "#### 1. Similarity to Numpy"
   ]
  },
  {
   "cell_type": "code",
   "execution_count": 5,
   "id": "144f01ab",
   "metadata": {},
   "outputs": [],
   "source": [
    "import numpy as np"
   ]
  },
  {
   "cell_type": "markdown",
   "id": "ff3cd958",
   "metadata": {},
   "source": [
    "#### (1) 1D with Numpy"
   ]
  },
  {
   "cell_type": "code",
   "execution_count": 13,
   "id": "988f0a13",
   "metadata": {},
   "outputs": [
    {
     "name": "stdout",
     "output_type": "stream",
     "text": [
      "[0. 1. 2. 3. 4. 5. 6.]\n"
     ]
    }
   ],
   "source": [
    "arr = np.array([0.,1.,2.,3.,4.,5.,6.])\n",
    "print(arr)"
   ]
  },
  {
   "cell_type": "code",
   "execution_count": 33,
   "id": "e197ad0a",
   "metadata": {},
   "outputs": [
    {
     "name": "stdout",
     "output_type": "stream",
     "text": [
      "Rank of array :  1\n",
      "Shape of array :  (7,)\n",
      "Number of components in array :  7\n"
     ]
    }
   ],
   "source": [
    "# Rank & Shape of 1D array\n",
    "print(\"Rank of array : \", arr.ndim) ## Rank = Dimension\n",
    "print(\"Shape of array : \", arr.shape) ## (7,) means (1,7)\n",
    "print(\"Number of components in array : \", arr.size)"
   ]
  },
  {
   "cell_type": "code",
   "execution_count": 27,
   "id": "38f8c210",
   "metadata": {
    "scrolled": true
   },
   "outputs": [
    {
     "name": "stdout",
     "output_type": "stream",
     "text": [
      "0.0\n",
      "1.0\n",
      "2.0\n",
      "3.0\n",
      "4.0\n",
      "5.0\n",
      "6.0\n",
      "---------------------------\n",
      "6.0\n",
      "---------------------------\n",
      "[0. 1.]\n",
      "[2. 3. 4. 5.]\n",
      "[0. 1. 2. 3. 4.]\n",
      "[2. 3. 4. 5. 6.]\n"
     ]
    }
   ],
   "source": [
    "# Components of 1D array\n",
    "## Note that at Python range (a,b) : a 이상 b 미만\n",
    "for i in range(0,7):\n",
    "    print(arr[i])\n",
    "print(\"---------------------------\")\n",
    "print(arr[-1]) ## Component num. -1 means last num.\n",
    "print(\"---------------------------\")\n",
    "print(arr[0:2]) \n",
    "print(arr[2:-1])\n",
    "print(arr[:5]) ## Start from beginning\n",
    "print(arr[2:]) ## Stop at end"
   ]
  },
  {
   "cell_type": "markdown",
   "id": "bef5dc9c",
   "metadata": {},
   "source": [
    "#### (2) 2D with Numpy"
   ]
  },
  {
   "cell_type": "code",
   "execution_count": 29,
   "id": "11b0c658",
   "metadata": {},
   "outputs": [
    {
     "name": "stdout",
     "output_type": "stream",
     "text": [
      "[[0. 1. 2.]\n",
      " [3. 4. 5.]]\n"
     ]
    }
   ],
   "source": [
    "arr_2 = np.array([[0.,1.,2.],[3.,4.,5.]])\n",
    "print(arr_2)"
   ]
  },
  {
   "cell_type": "code",
   "execution_count": 30,
   "id": "1b21fa62",
   "metadata": {},
   "outputs": [
    {
     "name": "stdout",
     "output_type": "stream",
     "text": [
      "Rank of array :  2\n",
      "Shape of array :  (2, 3)\n"
     ]
    }
   ],
   "source": [
    "# Rank & Shape of 2D array\n",
    "print(\"Rank of array : \", arr_2.ndim)\n",
    "print(\"Shape of array : \", arr_2.shape)"
   ]
  },
  {
   "cell_type": "markdown",
   "id": "e655e527",
   "metadata": {},
   "source": [
    "#### 2. Tensor Allocation"
   ]
  },
  {
   "cell_type": "code",
   "execution_count": 3,
   "id": "8866f35a",
   "metadata": {},
   "outputs": [],
   "source": [
    "import torch"
   ]
  },
  {
   "cell_type": "markdown",
   "id": "5a81f686",
   "metadata": {},
   "source": [
    "#### (1) 1D with Pytorch"
   ]
  },
  {
   "cell_type": "code",
   "execution_count": 35,
   "id": "b69e43ee",
   "metadata": {},
   "outputs": [
    {
     "name": "stdout",
     "output_type": "stream",
     "text": [
      "tensor([0., 1., 2., 3., 4., 5., 6.])\n"
     ]
    }
   ],
   "source": [
    "t = torch.FloatTensor([0.,1.,2.,3.,4.,5.,6.])\n",
    "print(t)"
   ]
  },
  {
   "cell_type": "code",
   "execution_count": 45,
   "id": "55473f3f",
   "metadata": {},
   "outputs": [
    {
     "name": "stdout",
     "output_type": "stream",
     "text": [
      "Rank of tensor :  1\n",
      "Shape of tensor :  torch.Size([7])\n",
      "Shape of tensor :  torch.Size([7])\n"
     ]
    }
   ],
   "source": [
    "print(\"Rank of tensor : \", t.dim())\n",
    "print(\"Shape of tensor : \", t.shape)\n",
    "print(\"Shape of tensor : \", t.size()) ## This result is same as the result of t.shape"
   ]
  },
  {
   "cell_type": "markdown",
   "id": "bc2de216",
   "metadata": {},
   "source": [
    "#### (2) 2D with Pytorch"
   ]
  },
  {
   "cell_type": "code",
   "execution_count": 49,
   "id": "34758e57",
   "metadata": {},
   "outputs": [
    {
     "name": "stdout",
     "output_type": "stream",
     "text": [
      "tensor([[ 1.,  2.,  3.],\n",
      "        [ 4.,  5.,  6.],\n",
      "        [ 7.,  8.,  9.],\n",
      "        [10., 11., 12.]])\n"
     ]
    }
   ],
   "source": [
    "t_2 = torch.FloatTensor([[1.0,2.0,3.0],[4.0,5.0,6.0],[7.0,8.0,9.0],[10.0,11.0,12.0]])\n",
    "print(t_2)"
   ]
  },
  {
   "cell_type": "code",
   "execution_count": 53,
   "id": "4cf07b47",
   "metadata": {},
   "outputs": [
    {
     "name": "stdout",
     "output_type": "stream",
     "text": [
      "Rank of tensor :  2\n",
      "Shape of tensor :  torch.Size([4, 3])\n",
      "Shape of tensor :  torch.Size([4, 3])\n"
     ]
    }
   ],
   "source": [
    "print(\"Rank of tensor : \", t_2.dim())\n",
    "print(\"Shape of tensor : \", t_2.shape)\n",
    "print(\"Shape of tensor : \", t_2.size())"
   ]
  },
  {
   "cell_type": "code",
   "execution_count": 64,
   "id": "b336c718",
   "metadata": {},
   "outputs": [
    {
     "name": "stdout",
     "output_type": "stream",
     "text": [
      "tensor([[ 1.,  2.,  3.],\n",
      "        [ 4.,  5.,  6.],\n",
      "        [ 7.,  8.,  9.],\n",
      "        [10., 11., 12.]])\n",
      "tensor([[1., 2.],\n",
      "        [4., 5.]])\n",
      "tensor([[4., 5., 6.],\n",
      "        [7., 8., 9.]])\n"
     ]
    }
   ],
   "source": [
    "# Slicing\n",
    "print(t_2[:,:])\n",
    "print(t_2[:2, :2])\n",
    "print(t_2[1:3, :])\n",
    "## t_2[Row_index, Column_index]"
   ]
  },
  {
   "cell_type": "markdown",
   "id": "9b550534",
   "metadata": {},
   "source": [
    "#### 3. Handling Tensors"
   ]
  },
  {
   "cell_type": "markdown",
   "id": "ca661732",
   "metadata": {},
   "source": [
    "#### (1) Broadcasting"
   ]
  },
  {
   "cell_type": "code",
   "execution_count": 79,
   "id": "987c8804",
   "metadata": {},
   "outputs": [
    {
     "name": "stdout",
     "output_type": "stream",
     "text": [
      "tensor1 :  tensor([[1., 2., 3.],\n",
      "        [4., 5., 6.]])\n",
      "torch.Size([2, 3])\n",
      "--------------------\n",
      "tensor2 :  tensor([[1.],\n",
      "        [2.]])\n",
      "torch.Size([2, 1])\n",
      "--------------------\n",
      "Broadcasting:  tensor([[2., 3., 4.],\n",
      "        [6., 7., 8.]])\n"
     ]
    }
   ],
   "source": [
    "# For addtion, and subtraction, two matrices' size should be same\n",
    "# However, in Pytorch, it can automatically fit their size using Broadcasting\n",
    "# Warning! Be sure with your tensor's size\n",
    "tensor1 = torch.FloatTensor([[1, 2, 3],[4, 5, 6]]) ## Size : 2 x 3\n",
    "tensor2 = torch.FloatTensor([[1],[2]]) ## Size : 3 x 1\n",
    "print(\"tensor1 : \", tensor1)\n",
    "print(tensor1.size())\n",
    "print(\"--------------------\")\n",
    "print(\"tensor2 : \", tensor2)\n",
    "print(tensor2.size())\n",
    "print(\"--------------------\")\n",
    "print(\"Broadcasting: \", tensor1 + tensor2)\n",
    "\n",
    "## Rules for Broadcasting\n",
    "## 1. Each tensor has at least one dimension\n",
    "## 2. Comparing the dimension sizes of each tensors...\n",
    "### (1) the dimension sizes are equal\n",
    "### (2) one of the dimension sizes is 1\n",
    "### (3) one of the dimension sizes does not exist"
   ]
  },
  {
   "cell_type": "markdown",
   "id": "336c4e12",
   "metadata": {},
   "source": [
    "#### (2) Matrix Multiplication & Multiplication"
   ]
  },
  {
   "cell_type": "code",
   "execution_count": 89,
   "id": "eabff5b6",
   "metadata": {},
   "outputs": [
    {
     "name": "stdout",
     "output_type": "stream",
     "text": [
      "tensor([[ 5.],\n",
      "        [14.]])\n",
      "tensor([[ 1.,  2.],\n",
      "        [ 8., 10.]])\n",
      "tensor([[ 1.,  2.],\n",
      "        [ 8., 10.]])\n"
     ]
    }
   ],
   "source": [
    "tensor1 = torch.FloatTensor([[1, 2],[4, 5]]) ## Size : 2 x 2\n",
    "tensor2 = torch.FloatTensor([[1],[2]]) ## Size : 2 x 1\n",
    "print(tensor1.matmul(tensor2)) ## Size : 2 x 1\n",
    "print(tensor1 * tensor2) ## Size : 2 x 2\n",
    "print(tensor1.mul(tensor2)) ## This result is same as the result of *\n",
    "\n",
    "## Rules for Element-wise multiplication\n",
    "## 1. Each tensor has at least one dimension\n",
    "## 2. Comparing the dimension sizes of each tensors...\n",
    "### (1) the dimension sizes are equal\n",
    "### (2) one of the dimension sizes is 1\n",
    "### (3) one of the dimension sizes does not exist"
   ]
  },
  {
   "cell_type": "markdown",
   "id": "cee96804",
   "metadata": {},
   "source": [
    "#### (3) Mean"
   ]
  },
  {
   "cell_type": "code",
   "execution_count": 112,
   "id": "68acb7d2",
   "metadata": {
    "scrolled": true
   },
   "outputs": [
    {
     "name": "stdout",
     "output_type": "stream",
     "text": [
      "tensor([1., 2.])\n",
      "tensor([[1., 2.],\n",
      "        [3., 4.]])\n",
      "--------------------\n",
      "tensor(1.5000)\n",
      "torch.Size([])\n",
      "--------------------\n",
      "tensor(2.5000)\n",
      "torch.Size([])\n",
      "--------------------\n",
      "tensor([2., 3.])\n",
      "tensor([1.5000, 3.5000])\n",
      "tensor([1.5000, 3.5000])\n"
     ]
    }
   ],
   "source": [
    "tensor1 = torch.FloatTensor([1, 2]) # 1D Size : 1 x 2\n",
    "tensor2 = torch.FloatTensor([[1, 2],[3, 4]]) # 2D Size : 2 x 2\n",
    "print(tensor1)\n",
    "print(tensor2)\n",
    "print(\"--------------------\")\n",
    "print(tensor1.mean())\n",
    "print(tensor1.mean().size()) ## mean value of tensor is also tensor\n",
    "print(\"--------------------\")\n",
    "print(tensor2.mean())\n",
    "print(tensor2.mean().size())\n",
    "print(\"--------------------\")\n",
    "print(tensor2.mean(dim=0)) ## dim=0 for Column => Reduce the dimension of Column\n",
    "print(tensor2.mean(dim=1)) ## dim=1 for Row => Reduce the dimension of Row\n",
    "print(tensor2.mean(dim=-1))"
   ]
  },
  {
   "cell_type": "markdown",
   "id": "14dfd0b5",
   "metadata": {},
   "source": [
    "#### (4) Sum"
   ]
  },
  {
   "cell_type": "code",
   "execution_count": 8,
   "id": "dad2f51b",
   "metadata": {},
   "outputs": [
    {
     "name": "stdout",
     "output_type": "stream",
     "text": [
      "tensor([1., 2.])\n",
      "tensor([[1., 2.],\n",
      "        [3., 4.]])\n",
      "--------------------\n",
      "tensor(3.)\n",
      "torch.Size([])\n",
      "--------------------\n",
      "tensor(10.)\n",
      "torch.Size([])\n",
      "--------------------\n",
      "tensor([4., 6.])\n",
      "tensor([4., 6.])\n",
      "tensor([3., 7.])\n",
      "tensor([3., 7.])\n"
     ]
    }
   ],
   "source": [
    "tensor1 = torch.FloatTensor([1, 2]) # 1D Size : 1 x 2\n",
    "tensor2 = torch.FloatTensor([[1, 2],[3, 4]]) # 2D Size : 2 x 2\n",
    "print(tensor1)\n",
    "print(tensor2)\n",
    "print(\"--------------------\")\n",
    "print(tensor1.sum())\n",
    "print(tensor1.sum().size()) ## mean value of tensor is also tensor\n",
    "print(\"--------------------\")\n",
    "print(tensor2.sum())\n",
    "print(tensor2.sum().size())\n",
    "print(\"--------------------\")\n",
    "print(tensor2.sum(dim=0)) ## dim=0 for Column => Reduce the dimension of Column\n",
    "print(tensor2.sum(axis=0))\n",
    "print(tensor2.sum(dim=1)) ## dim=1 for Row => Reduce the dimension of Row\n",
    "print(tensor2.sum(dim=-1))"
   ]
  },
  {
   "cell_type": "markdown",
   "id": "0a697d1b",
   "metadata": {},
   "source": [
    "#### (5) Max & Argmax"
   ]
  },
  {
   "cell_type": "code",
   "execution_count": 9,
   "id": "b7cb4fc3",
   "metadata": {},
   "outputs": [
    {
     "name": "stdout",
     "output_type": "stream",
     "text": [
      "tensor([[1., 2.],\n",
      "        [3., 4.]])\n",
      "--------------------\n",
      "tensor(4.)\n",
      "--------------------\n",
      "torch.return_types.max(\n",
      "values=tensor([3., 4.]),\n",
      "indices=tensor([1, 1]))\n",
      "tensor([3., 4.])\n",
      "tensor([1, 1])\n",
      "--------------------\n",
      "tensor(3)\n",
      "tensor([1, 1])\n"
     ]
    }
   ],
   "source": [
    "t = torch.FloatTensor([[1, 2],[3, 4]])\n",
    "print(t)\n",
    "print(\"--------------------\")\n",
    "print(t.max())\n",
    "print(\"--------------------\")\n",
    "print(t.max(dim=0))\n",
    "print(t.max(dim=0)[0]) ## Values\n",
    "print(t.max(dim=0)[1]) ## Indices\n",
    "print(\"--------------------\")\n",
    "print(t.argmax())\n",
    "print(t.argmax(dim=0)) ## Result is same as the one from t.max(dim=0)[1]"
   ]
  },
  {
   "cell_type": "markdown",
   "id": "9d1815ce",
   "metadata": {},
   "source": [
    "#### (※) Dimension of Arrays"
   ]
  },
  {
   "cell_type": "code",
   "execution_count": 32,
   "id": "013ae30d",
   "metadata": {},
   "outputs": [
    {
     "name": "stdout",
     "output_type": "stream",
     "text": [
      "torch.Size([2, 3])\n",
      "tensor([[0., 1., 2.],\n",
      "        [3., 4., 5.]])\n",
      "--------------------\n",
      "[dim=0]\n",
      "torch.Size([3])\n",
      "tensor([3., 5., 7.])\n",
      "--------------------\n",
      "[dim=1]\n",
      "torch.Size([2])\n",
      "tensor([ 3., 12.])\n"
     ]
    }
   ],
   "source": [
    "t2 = torch.FloatTensor([[0, 1, 2],[3, 4, 5]])\n",
    "print(t2.shape)\n",
    "print(t2)\n",
    "print(\"--------------------\")\n",
    "print(\"[dim=0]\")\n",
    "print(t2.sum(dim=0).shape)\n",
    "print(t2.sum(dim=0))\n",
    "print(\"--------------------\")\n",
    "print(\"[dim=1]\")\n",
    "print(t2.sum(dim=1).shape)\n",
    "print(t2.sum(dim=1))"
   ]
  },
  {
   "cell_type": "code",
   "execution_count": 33,
   "id": "826eb4be",
   "metadata": {
    "scrolled": false
   },
   "outputs": [
    {
     "name": "stdout",
     "output_type": "stream",
     "text": [
      "torch.Size([3, 2, 3])\n",
      "tensor([[[0., 1., 2.],\n",
      "         [3., 4., 5.]],\n",
      "\n",
      "        [[0., 1., 2.],\n",
      "         [3., 4., 5.]],\n",
      "\n",
      "        [[0., 1., 2.],\n",
      "         [3., 4., 5.]]])\n",
      "--------------------\n",
      "[dim=0]\n",
      "torch.Size([2, 3])\n",
      "tensor([[ 0.,  3.,  6.],\n",
      "        [ 9., 12., 15.]])\n",
      "--------------------\n",
      "[dim=1]\n",
      "torch.Size([3, 3])\n",
      "tensor([[3., 5., 7.],\n",
      "        [3., 5., 7.],\n",
      "        [3., 5., 7.]])\n",
      "--------------------\n",
      "[dim=2]\n",
      "torch.Size([3, 2])\n",
      "tensor([[ 3., 12.],\n",
      "        [ 3., 12.],\n",
      "        [ 3., 12.]])\n"
     ]
    }
   ],
   "source": [
    "t3 = torch.FloatTensor([[[0, 1, 2],[3, 4, 5]],[[0, 1, 2],[3, 4, 5]],[[0, 1, 2],[3, 4, 5]]])\n",
    "print(t3.shape)\n",
    "print(t3)\n",
    "print(\"--------------------\")\n",
    "print(\"[dim=0]\")\n",
    "print(t3.sum(dim=0).shape)\n",
    "print(t3.sum(dim=0))\n",
    "print(\"--------------------\")\n",
    "print(\"[dim=1]\")\n",
    "print(t3.sum(dim=1).shape)\n",
    "print(t3.sum(dim=1))\n",
    "print(\"--------------------\")\n",
    "print(\"[dim=2]\")\n",
    "print(t3.sum(dim=2).shape)\n",
    "print(t3.sum(dim=2))"
   ]
  }
 ],
 "metadata": {
  "kernelspec": {
   "display_name": "Python 3 (ipykernel)",
   "language": "python",
   "name": "python3"
  },
  "language_info": {
   "codemirror_mode": {
    "name": "ipython",
    "version": 3
   },
   "file_extension": ".py",
   "mimetype": "text/x-python",
   "name": "python",
   "nbconvert_exporter": "python",
   "pygments_lexer": "ipython3",
   "version": "3.8.13"
  }
 },
 "nbformat": 4,
 "nbformat_minor": 5
}
