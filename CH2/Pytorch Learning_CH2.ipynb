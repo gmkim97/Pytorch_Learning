{
 "cells": [
  {
   "cell_type": "markdown",
   "id": "15944f5f",
   "metadata": {},
   "source": [
    "### CH2. Linear Regression"
   ]
  },
  {
   "cell_type": "markdown",
   "id": "e594e40e",
   "metadata": {},
   "source": [
    "#### 1. Autograd"
   ]
  },
  {
   "cell_type": "code",
   "execution_count": 1,
   "id": "8723d5f4",
   "metadata": {},
   "outputs": [],
   "source": [
    "import torch"
   ]
  },
  {
   "cell_type": "code",
   "execution_count": 19,
   "id": "77935e10",
   "metadata": {},
   "outputs": [],
   "source": [
    "w = torch.tensor(2.0, requires_grad=True)"
   ]
  },
  {
   "cell_type": "code",
   "execution_count": 20,
   "id": "aec56cb0",
   "metadata": {},
   "outputs": [],
   "source": [
    "y = w ** 2\n",
    "z = 2 * y + 5"
   ]
  },
  {
   "cell_type": "code",
   "execution_count": 21,
   "id": "913e9ffc",
   "metadata": {},
   "outputs": [],
   "source": [
    "z.backward()\n",
    "## If you run this code twice, it will give error code.\n",
    "## To solve it, you can add parameter, retain_graph=True\n",
    "## Ref : https://jh-bk.tistory.com/13"
   ]
  },
  {
   "cell_type": "code",
   "execution_count": 24,
   "id": "2567a645",
   "metadata": {},
   "outputs": [
    {
     "name": "stdout",
     "output_type": "stream",
     "text": [
      "수식을 w로 미분한 값 : 8.0\n"
     ]
    }
   ],
   "source": [
    "print('수식을 w로 미분한 값 : {}'.format(w.grad))\n",
    "## Difference btw. backward() & grad() : https://stackoverflow.com/questions/69148622/difference-between-autograd-grad-and-autograd-backward"
   ]
  },
  {
   "cell_type": "markdown",
   "id": "e78fcfc5",
   "metadata": {},
   "source": [
    "More Details : https://pytorch.org/docs/stable/notes/autograd.html"
   ]
  },
  {
   "cell_type": "markdown",
   "id": "1a75bf65",
   "metadata": {},
   "source": [
    "#### 2. Simple Linear Regression"
   ]
  }
 ],
 "metadata": {
  "kernelspec": {
   "display_name": "Python 3 (ipykernel)",
   "language": "python",
   "name": "python3"
  },
  "language_info": {
   "codemirror_mode": {
    "name": "ipython",
    "version": 3
   },
   "file_extension": ".py",
   "mimetype": "text/x-python",
   "name": "python",
   "nbconvert_exporter": "python",
   "pygments_lexer": "ipython3",
   "version": "3.8.0"
  }
 },
 "nbformat": 4,
 "nbformat_minor": 5
}
